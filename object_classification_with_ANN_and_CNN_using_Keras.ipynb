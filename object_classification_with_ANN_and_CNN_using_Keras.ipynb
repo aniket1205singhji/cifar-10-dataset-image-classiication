{
  "nbformat": 4,
  "nbformat_minor": 0,
  "metadata": {
    "colab": {
      "name": "object classification with ANN and CNN using Keras",
      "provenance": [],
      "collapsed_sections": []
    },
    "kernelspec": {
      "name": "python3",
      "display_name": "Python 3"
    },
    "language_info": {
      "name": "python"
    }
  },
  "cells": [
    {
      "cell_type": "code",
      "metadata": {
        "id": "UOOlCNFqyYuV"
      },
      "source": [
        "from keras.datasets import cifar10\n",
        "import matplotlib.pyplot as plt\n",
        "import numpy as np"
      ],
      "execution_count": 70,
      "outputs": []
    },
    {
      "cell_type": "code",
      "metadata": {
        "id": "GccBEe086ej5"
      },
      "source": [
        "# load data\n",
        "(X_train, y_train), (X_test, y_test) = cifar10.load_data()"
      ],
      "execution_count": 71,
      "outputs": []
    },
    {
      "cell_type": "code",
      "metadata": {
        "colab": {
          "base_uri": "https://localhost:8080/"
        },
        "id": "_JryGxMz6qx6",
        "outputId": "0d99ad9e-ed6a-48c8-c467-d27e3ecd1b7b"
      },
      "source": [
        "X_train.shape,y_train.shape"
      ],
      "execution_count": 72,
      "outputs": [
        {
          "output_type": "execute_result",
          "data": {
            "text/plain": [
              "((50000, 32, 32, 3), (50000, 1))"
            ]
          },
          "metadata": {
            "tags": []
          },
          "execution_count": 72
        }
      ]
    },
    {
      "cell_type": "code",
      "metadata": {
        "colab": {
          "base_uri": "https://localhost:8080/",
          "height": 283
        },
        "id": "nzC-wove62lr",
        "outputId": "531ebeb1-5cce-4ab3-db0c-ec1d76353124"
      },
      "source": [
        "#checking for a image\n",
        "plt.imshow(X_train[1])"
      ],
      "execution_count": 73,
      "outputs": [
        {
          "output_type": "execute_result",
          "data": {
            "text/plain": [
              "<matplotlib.image.AxesImage at 0x7f185093f8d0>"
            ]
          },
          "metadata": {
            "tags": []
          },
          "execution_count": 73
        },
        {
          "output_type": "display_data",
          "data": {
            "image/png": "[encoded data removed]",
            "text/plain": [
              "<Figure size 432x288 with 1 Axes>"
            ]
          },
          "metadata": {
            "tags": [],
            "needs_background": "light"
          }
        }
      ]
    },
    {
      "cell_type": "code",
      "metadata": {
        "colab": {
          "base_uri": "https://localhost:8080/"
        },
        "id": "UqYGiP9KBK0P",
        "outputId": "f3d51c1f-d984-431f-bbee-38ee7b22ba6f"
      },
      "source": [
        "X_train[0]"
      ],
      "execution_count": 74,
      "outputs": [
        {
          "output_type": "execute_result",
          "data": {
            "text/plain": [
              "array([[[ 59,  62,  63],\n",
              "        [ 43,  46,  45],\n",
              "        [ 50,  48,  43],\n",
              "        ...,\n",
              "        [158, 132, 108],\n",
              "        [152, 125, 102],\n",
              "        [148, 124, 103]],\n",
              "\n",
              "       [[ 16,  20,  20],\n",
              "        [  0,   0,   0],\n",
              "        [ 18,   8,   0],\n",
              "        ...,\n",
              "        [123,  88,  55],\n",
              "        [119,  83,  50],\n",
              "        [122,  87,  57]],\n",
              "\n",
              "       [[ 25,  24,  21],\n",
              "        [ 16,   7,   0],\n",
              "        [ 49,  27,   8],\n",
              "        ...,\n",
              "        [118,  84,  50],\n",
              "        [120,  84,  50],\n",
              "        [109,  73,  42]],\n",
              "\n",
              "       ...,\n",
              "\n",
              "       [[208, 170,  96],\n",
              "        [201, 153,  34],\n",
              "        [198, 161,  26],\n",
              "        ...,\n",
              "        [160, 133,  70],\n",
              "        [ 56,  31,   7],\n",
              "        [ 53,  34,  20]],\n",
              "\n",
              "       [[180, 139,  96],\n",
              "        [173, 123,  42],\n",
              "        [186, 144,  30],\n",
              "        ...,\n",
              "        [184, 148,  94],\n",
              "        [ 97,  62,  34],\n",
              "        [ 83,  53,  34]],\n",
              "\n",
              "       [[177, 144, 116],\n",
              "        [168, 129,  94],\n",
              "        [179, 142,  87],\n",
              "        ...,\n",
              "        [216, 184, 140],\n",
              "        [151, 118,  84],\n",
              "        [123,  92,  72]]], dtype=uint8)"
            ]
          },
          "metadata": {
            "tags": []
          },
          "execution_count": 74
        }
      ]
    },
    {
      "cell_type": "markdown",
      "metadata": {
        "id": "vSFkSVweCBse"
      },
      "source": [
        "here we see values are between 0 - 255\n",
        "so we can normalize them and bring between 0 - 1"
      ]
    },
    {
      "cell_type": "code",
      "metadata": {
        "colab": {
          "base_uri": "https://localhost:8080/"
        },
        "id": "SL8tkxBECJBo",
        "outputId": "80581228-c9cd-49d3-bffb-1fb8b32d3eb8"
      },
      "source": [
        "X_train[0]/255.0"
      ],
      "execution_count": 75,
      "outputs": [
        {
          "output_type": "execute_result",
          "data": {
            "text/plain": [
              "array([[[0.23137255, 0.24313725, 0.24705882],\n",
              "        [0.16862745, 0.18039216, 0.17647059],\n",
              "        [0.19607843, 0.18823529, 0.16862745],\n",
              "        ...,\n",
              "        [0.61960784, 0.51764706, 0.42352941],\n",
              "        [0.59607843, 0.49019608, 0.4       ],\n",
              "        [0.58039216, 0.48627451, 0.40392157]],\n",
              "\n",
              "       [[0.0627451 , 0.07843137, 0.07843137],\n",
              "        [0.        , 0.        , 0.        ],\n",
              "        [0.07058824, 0.03137255, 0.        ],\n",
              "        ...,\n",
              "        [0.48235294, 0.34509804, 0.21568627],\n",
              "        [0.46666667, 0.3254902 , 0.19607843],\n",
              "        [0.47843137, 0.34117647, 0.22352941]],\n",
              "\n",
              "       [[0.09803922, 0.09411765, 0.08235294],\n",
              "        [0.0627451 , 0.02745098, 0.        ],\n",
              "        [0.19215686, 0.10588235, 0.03137255],\n",
              "        ...,\n",
              "        [0.4627451 , 0.32941176, 0.19607843],\n",
              "        [0.47058824, 0.32941176, 0.19607843],\n",
              "        [0.42745098, 0.28627451, 0.16470588]],\n",
              "\n",
              "       ...,\n",
              "\n",
              "       [[0.81568627, 0.66666667, 0.37647059],\n",
              "        [0.78823529, 0.6       , 0.13333333],\n",
              "        [0.77647059, 0.63137255, 0.10196078],\n",
              "        ...,\n",
              "        [0.62745098, 0.52156863, 0.2745098 ],\n",
              "        [0.21960784, 0.12156863, 0.02745098],\n",
              "        [0.20784314, 0.13333333, 0.07843137]],\n",
              "\n",
              "       [[0.70588235, 0.54509804, 0.37647059],\n",
              "        [0.67843137, 0.48235294, 0.16470588],\n",
              "        [0.72941176, 0.56470588, 0.11764706],\n",
              "        ...,\n",
              "        [0.72156863, 0.58039216, 0.36862745],\n",
              "        [0.38039216, 0.24313725, 0.13333333],\n",
              "        [0.3254902 , 0.20784314, 0.13333333]],\n",
              "\n",
              "       [[0.69411765, 0.56470588, 0.45490196],\n",
              "        [0.65882353, 0.50588235, 0.36862745],\n",
              "        [0.70196078, 0.55686275, 0.34117647],\n",
              "        ...,\n",
              "        [0.84705882, 0.72156863, 0.54901961],\n",
              "        [0.59215686, 0.4627451 , 0.32941176],\n",
              "        [0.48235294, 0.36078431, 0.28235294]]])"
            ]
          },
          "metadata": {
            "tags": []
          },
          "execution_count": 75
        }
      ]
    },
    {
      "cell_type": "code",
      "metadata": {
        "id": "UNzTxK7RCQQo"
      },
      "source": [
        "#doing this for all test and train data\n",
        "X_train = X_train / 255\n",
        "X_test = X_test / 255"
      ],
      "execution_count": 76,
      "outputs": []
    },
    {
      "cell_type": "code",
      "metadata": {
        "id": "3DQ_2SHOrn52"
      },
      "source": [
        "#since for making classification report we need y_test which is not one hot encoded therefore we store it in r_test\n",
        "r_test = y_test"
      ],
      "execution_count": 77,
      "outputs": []
    },
    {
      "cell_type": "code",
      "metadata": {
        "id": "L51jSNEsCdi8"
      },
      "source": [
        "from keras.utils import np_utils"
      ],
      "execution_count": 78,
      "outputs": []
    },
    {
      "cell_type": "code",
      "metadata": {
        "id": "dYdE-wN1DBJR"
      },
      "source": [
        "# one hot encode outputs\n",
        "y_train = np_utils.to_categorical(y_train)\n",
        "y_test = np_utils.to_categorical(y_test)"
      ],
      "execution_count": 79,
      "outputs": []
    },
    {
      "cell_type": "code",
      "metadata": {
        "colab": {
          "base_uri": "https://localhost:8080/"
        },
        "id": "Ou3WWV2fDQwY",
        "outputId": "5b1a9eb3-8b08-443b-9674-6328dde326e9"
      },
      "source": [
        "y_train[0:5]"
      ],
      "execution_count": 80,
      "outputs": [
        {
          "output_type": "execute_result",
          "data": {
            "text/plain": [
              "array([[0., 0., 0., 0., 0., 0., 1., 0., 0., 0.],\n",
              "       [0., 0., 0., 0., 0., 0., 0., 0., 0., 1.],\n",
              "       [0., 0., 0., 0., 0., 0., 0., 0., 0., 1.],\n",
              "       [0., 0., 0., 0., 1., 0., 0., 0., 0., 0.],\n",
              "       [0., 1., 0., 0., 0., 0., 0., 0., 0., 0.]], dtype=float32)"
            ]
          },
          "metadata": {
            "tags": []
          },
          "execution_count": 80
        }
      ]
    },
    {
      "cell_type": "code",
      "metadata": {
        "id": "r5akDKC1E1s9"
      },
      "source": [
        "from keras.models import Sequential\n",
        "from keras.layers import Dense,Dropout,Flatten"
      ],
      "execution_count": 81,
      "outputs": []
    },
    {
      "cell_type": "code",
      "metadata": {
        "id": "Re4VonHaFK9U"
      },
      "source": [
        "#building a ANN \n",
        "#model creation\n",
        "modelann = Sequential()\n",
        "modelann.add(Dense(units=32,activation='relu',input_shape=(32,32,3)))\n",
        "modelann.add(Flatten())\n",
        "modelann.add(Dense(units = 400 , activation='relu'))\n",
        "modelann.add(Dense(units = 100 , activation='relu'))\n",
        "modelann.add(Dense(units = 10 , activation='sigmoid'))\n"
      ],
      "execution_count": 62,
      "outputs": []
    },
    {
      "cell_type": "code",
      "metadata": {
        "colab": {
          "base_uri": "https://localhost:8080/"
        },
        "id": "cskUO80eNnID",
        "outputId": "1c9603a9-3de3-4577-d986-ffc41d803773"
      },
      "source": [
        "modelann.summary()"
      ],
      "execution_count": 63,
      "outputs": [
        {
          "output_type": "stream",
          "text": [
            "Model: \"sequential_16\"\n",
            "_________________________________________________________________\n",
            "Layer (type)                 Output Shape              Param #   \n",
            "=================================================================\n",
            "dense_51 (Dense)             (None, 32, 32, 32)        128       \n",
            "_________________________________________________________________\n",
            "flatten_13 (Flatten)         (None, 32768)             0         \n",
            "_________________________________________________________________\n",
            "dense_52 (Dense)             (None, 400)               13107600  \n",
            "_________________________________________________________________\n",
            "dense_53 (Dense)             (None, 100)               40100     \n",
            "_________________________________________________________________\n",
            "dense_54 (Dense)             (None, 10)                1010      \n",
            "=================================================================\n",
            "Total params: 13,148,838\n",
            "Trainable params: 13,148,838\n",
            "Non-trainable params: 0\n",
            "_________________________________________________________________\n"
          ],
          "name": "stdout"
        }
      ]
    },
    {
      "cell_type": "code",
      "metadata": {
        "id": "kqG7WOh5OJqF"
      },
      "source": [
        "#since we one hot encoded the labels therefore we use categorical crossentrophy if we hadn't hot encoded it then we would have used sparse categorical crossentrophy\n",
        "modelann.compile(optimizer='adam',loss='categorical_crossentropy',metrics=['accuracy'])"
      ],
      "execution_count": 64,
      "outputs": []
    },
    {
      "cell_type": "code",
      "metadata": {
        "colab": {
          "base_uri": "https://localhost:8080/"
        },
        "id": "ZHYDbVbsWaF-",
        "outputId": "57677a27-36a7-4f24-b359-30d2345988c0"
      },
      "source": [
        "modelann.fit(X_train,y_train,epochs=6)"
      ],
      "execution_count": 65,
      "outputs": [
        {
          "output_type": "stream",
          "text": [
            "Epoch 1/6\n",
            "1563/1563 [==============================] - 247s 157ms/step - loss: 1.8303 - accuracy: 0.3539\n",
            "Epoch 2/6\n",
            "1563/1563 [==============================] - 240s 153ms/step - loss: 1.3929 - accuracy: 0.5027\n",
            "Epoch 3/6\n",
            "1563/1563 [==============================] - 235s 150ms/step - loss: 1.2617 - accuracy: 0.5496\n",
            "Epoch 4/6\n",
            "1563/1563 [==============================] - 233s 149ms/step - loss: 1.1532 - accuracy: 0.5916\n",
            "Epoch 5/6\n",
            "1563/1563 [==============================] - 230s 147ms/step - loss: 1.0419 - accuracy: 0.6319\n",
            "Epoch 6/6\n",
            "1563/1563 [==============================] - 232s 148ms/step - loss: 0.9533 - accuracy: 0.6614\n"
          ],
          "name": "stdout"
        },
        {
          "output_type": "execute_result",
          "data": {
            "text/plain": [
              "<tensorflow.python.keras.callbacks.History at 0x7f184e24efd0>"
            ]
          },
          "metadata": {
            "tags": []
          },
          "execution_count": 65
        }
      ]
    },
    {
      "cell_type": "code",
      "metadata": {
        "colab": {
          "base_uri": "https://localhost:8080/"
        },
        "id": "O2H2wi05njgK",
        "outputId": "1364d761-2a4c-40ba-9a4a-a5fd6a2aa44b"
      },
      "source": [
        "modelann.evaluate(X_test, y_test)"
      ],
      "execution_count": 66,
      "outputs": [
        {
          "output_type": "stream",
          "text": [
            "313/313 [==============================] - 10s 30ms/step - loss: 1.2888 - accuracy: 0.5581\n"
          ],
          "name": "stdout"
        },
        {
          "output_type": "execute_result",
          "data": {
            "text/plain": [
              "[1.2887853384017944, 0.5580999851226807]"
            ]
          },
          "metadata": {
            "tags": []
          },
          "execution_count": 66
        }
      ]
    },
    {
      "cell_type": "code",
      "metadata": {
        "id": "JwmXRbfYsPk8"
      },
      "source": [
        "from mlxtend.plotting import plot_confusion_matrix\n",
        "from sklearn.metrics import confusion_matrix"
      ],
      "execution_count": 83,
      "outputs": []
    },
    {
      "cell_type": "code",
      "metadata": {
        "colab": {
          "base_uri": "https://localhost:8080/"
        },
        "id": "W-SX3QlyoR9J",
        "outputId": "cb47b246-cfcb-47e2-99a2-c2f5d8815c3e"
      },
      "source": [
        "from sklearn.metrics import classification_report\n",
        "y_pred = modelann.predict(X_test)\n",
        "y_pred_classes = [np.argmax(element) for element in y_pred]\n",
        "print('\\nClassification Report\\n')\n",
        "print(classification_report(r_test, y_pred_classes, target_names=[\"airplane\",\"automobile\",\"bird\",\"cat\",\"deer\",\"dog\",\"frog\",\"horse\",\"ship\",\"truck\"]))\n",
        "#here we needed r_test not y_test"
      ],
      "execution_count": 90,
      "outputs": [
        {
          "output_type": "stream",
          "text": [
            "\n",
            "Classification Report\n",
            "\n",
            "              precision    recall  f1-score   support\n",
            "\n",
            "    airplane       0.58      0.64      0.60      1000\n",
            "  automobile       0.71      0.66      0.68      1000\n",
            "        bird       0.48      0.42      0.45      1000\n",
            "         cat       0.36      0.44      0.40      1000\n",
            "        deer       0.53      0.43      0.47      1000\n",
            "         dog       0.43      0.54      0.48      1000\n",
            "        frog       0.63      0.62      0.63      1000\n",
            "       horse       0.60      0.61      0.60      1000\n",
            "        ship       0.68      0.67      0.67      1000\n",
            "       truck       0.66      0.56      0.61      1000\n",
            "\n",
            "    accuracy                           0.56     10000\n",
            "   macro avg       0.57      0.56      0.56     10000\n",
            "weighted avg       0.57      0.56      0.56     10000\n",
            "\n"
          ],
          "name": "stdout"
        }
      ]
    },
    {
      "cell_type": "code",
      "metadata": {
        "colab": {
          "base_uri": "https://localhost:8080/"
        },
        "id": "JYXFsYunsdpm",
        "outputId": "529a64c2-c8ff-462e-926f-2f1c30162a46"
      },
      "source": [
        "r_pred = modelann.predict_classes(X_test)\n",
        "#required for confusion matrix"
      ],
      "execution_count": 91,
      "outputs": [
        {
          "output_type": "stream",
          "text": [
            "/usr/local/lib/python3.7/dist-packages/tensorflow/python/keras/engine/sequential.py:450: UserWarning: `model.predict_classes()` is deprecated and will be removed after 2021-01-01. Please use instead:* `np.argmax(model.predict(x), axis=-1)`,   if your model does multi-class classification   (e.g. if it uses a `softmax` last-layer activation).* `(model.predict(x) > 0.5).astype(\"int32\")`,   if your model does binary classification   (e.g. if it uses a `sigmoid` last-layer activation).\n",
            "  warnings.warn('`model.predict_classes()` is deprecated and '\n"
          ],
          "name": "stderr"
        }
      ]
    },
    {
      "cell_type": "code",
      "metadata": {
        "colab": {
          "base_uri": "https://localhost:8080/",
          "height": 530
        },
        "id": "xyr_OM7PsvP-",
        "outputId": "51310358-5378-4ceb-bcb9-71b4489a03c2"
      },
      "source": [
        "mat = confusion_matrix(r_test , r_pred)\n",
        "plot_confusion_matrix(conf_mat = mat, show_normed=False , figsize=(10,8))"
      ],
      "execution_count": 100,
      "outputs": [
        {
          "output_type": "execute_result",
          "data": {
            "text/plain": [
              "(<Figure size 720x576 with 1 Axes>,\n",
              " <matplotlib.axes._subplots.AxesSubplot at 0x7f1847dafcd0>)"
            ]
          },
          "metadata": {
            "tags": []
          },
          "execution_count": 100
        },
        {
          "output_type": "display_data",
          "data": {
            "image/png": "[encoded data removed]",
            "text/plain": [
              "<Figure size 720x576 with 1 Axes>"
            ]
          },
          "metadata": {
            "tags": [],
            "needs_background": "light"
          }
        }
      ]
    },
    {
      "cell_type": "markdown",
      "metadata": {
        "id": "TSnZkF9WyC6J"
      },
      "source": [
        "**We saw the accuracy using ANN , now we will be building a CNN and then we will compare their perfromance**"
      ]
    },
    {
      "cell_type": "code",
      "metadata": {
        "id": "Hp4Ir5D0290J"
      },
      "source": [
        "from keras.layers.convolutional import Conv2D\n",
        "from keras.layers.convolutional import MaxPooling2D"
      ],
      "execution_count": 110,
      "outputs": []
    },
    {
      "cell_type": "code",
      "metadata": {
        "id": "cMg9u8oCyYZ7"
      },
      "source": [
        "#building a CNN \n",
        "#we need to add layers for feature extraction before our dense connected layer (convo + reLU , pooling) then flattenning then dense connected net..\n",
        "\n",
        "#model creation\n",
        "modelcnn = Sequential()\n",
        "modelcnn.add(Conv2D(filters=32, kernel_size=(3,3), activation='relu', input_shape=(32,32,3)))\n",
        "modelcnn.add(MaxPooling2D(pool_size=(2,2)))\n",
        "modelcnn.add(Conv2D(filters=64, kernel_size=(3,3), activation='relu', input_shape=(32,32,3)))\n",
        "modelcnn.add(MaxPooling2D(pool_size=(2,2)))\n",
        "#dense\n",
        "modelcnn.add(Flatten())\n",
        "modelcnn.add(Dense(units = 100 , activation='relu'))\n",
        "modelcnn.add(Dense(units = 10 , activation='softmax'))\n"
      ],
      "execution_count": 111,
      "outputs": []
    },
    {
      "cell_type": "code",
      "metadata": {
        "colab": {
          "base_uri": "https://localhost:8080/"
        },
        "id": "nMR7FLEG3KgS",
        "outputId": "edc3f674-1450-474e-9f48-ca836077880a"
      },
      "source": [
        "modelcnn.summary()"
      ],
      "execution_count": 112,
      "outputs": [
        {
          "output_type": "stream",
          "text": [
            "Model: \"sequential_19\"\n",
            "_________________________________________________________________\n",
            "Layer (type)                 Output Shape              Param #   \n",
            "=================================================================\n",
            "conv2d_2 (Conv2D)            (None, 30, 30, 32)        896       \n",
            "_________________________________________________________________\n",
            "max_pooling2d_2 (MaxPooling2 (None, 15, 15, 32)        0         \n",
            "_________________________________________________________________\n",
            "conv2d_3 (Conv2D)            (None, 13, 13, 64)        18496     \n",
            "_________________________________________________________________\n",
            "max_pooling2d_3 (MaxPooling2 (None, 6, 6, 64)          0         \n",
            "_________________________________________________________________\n",
            "flatten_15 (Flatten)         (None, 2304)              0         \n",
            "_________________________________________________________________\n",
            "dense_57 (Dense)             (None, 100)               230500    \n",
            "_________________________________________________________________\n",
            "dense_58 (Dense)             (None, 10)                1010      \n",
            "=================================================================\n",
            "Total params: 250,902\n",
            "Trainable params: 250,902\n",
            "Non-trainable params: 0\n",
            "_________________________________________________________________\n"
          ],
          "name": "stdout"
        }
      ]
    },
    {
      "cell_type": "code",
      "metadata": {
        "id": "rsKvxPXy3cGr"
      },
      "source": [
        "modelcnn.compile(optimizer='adam',loss='categorical_crossentropy',metrics=['accuracy'])"
      ],
      "execution_count": 113,
      "outputs": []
    },
    {
      "cell_type": "code",
      "metadata": {
        "colab": {
          "base_uri": "https://localhost:8080/"
        },
        "id": "eQ89dmVi5LMM",
        "outputId": "ca8c54b4-923e-4478-e372-68fb300cf840"
      },
      "source": [
        "modelcnn.fit(X_train,y_train,epochs=6)"
      ],
      "execution_count": 114,
      "outputs": [
        {
          "output_type": "stream",
          "text": [
            "Epoch 1/6\n",
            "1563/1563 [==============================] - 67s 43ms/step - loss: 1.6548 - accuracy: 0.3935\n",
            "Epoch 2/6\n",
            "1563/1563 [==============================] - 68s 44ms/step - loss: 1.1127 - accuracy: 0.6083\n",
            "Epoch 3/6\n",
            "1563/1563 [==============================] - 77s 49ms/step - loss: 0.9489 - accuracy: 0.6702\n",
            "Epoch 4/6\n",
            "1563/1563 [==============================] - 67s 43ms/step - loss: 0.8452 - accuracy: 0.7056\n",
            "Epoch 5/6\n",
            "1563/1563 [==============================] - 67s 43ms/step - loss: 0.7518 - accuracy: 0.7372\n",
            "Epoch 6/6\n",
            "1563/1563 [==============================] - 70s 45ms/step - loss: 0.6809 - accuracy: 0.7639\n"
          ],
          "name": "stdout"
        },
        {
          "output_type": "execute_result",
          "data": {
            "text/plain": [
              "<tensorflow.python.keras.callbacks.History at 0x7f185721fe50>"
            ]
          },
          "metadata": {
            "tags": []
          },
          "execution_count": 114
        }
      ]
    },
    {
      "cell_type": "code",
      "metadata": {
        "colab": {
          "base_uri": "https://localhost:8080/"
        },
        "id": "Bo5E3lvv78yJ",
        "outputId": "900f6515-4954-4064-b06a-2640f7e7d6db"
      },
      "source": [
        "modelcnn.evaluate(X_test, y_test)"
      ],
      "execution_count": 116,
      "outputs": [
        {
          "output_type": "stream",
          "text": [
            "313/313 [==============================] - 4s 14ms/step - loss: 0.8880 - accuracy: 0.6974\n"
          ],
          "name": "stdout"
        },
        {
          "output_type": "execute_result",
          "data": {
            "text/plain": [
              "[0.8879534006118774, 0.6973999738693237]"
            ]
          },
          "metadata": {
            "tags": []
          },
          "execution_count": 116
        }
      ]
    },
    {
      "cell_type": "code",
      "metadata": {
        "colab": {
          "base_uri": "https://localhost:8080/"
        },
        "id": "RF7ujrif-_L2",
        "outputId": "dec10403-cf4a-49b8-8754-07d7a441b4a3"
      },
      "source": [
        "from sklearn.metrics import classification_report\n",
        "y1_pred = modelcnn.predict(X_test)\n",
        "y1_pred_classes = [np.argmax(element) for element in y1_pred]\n",
        "print('\\nClassification Report\\n')\n",
        "print(classification_report(r_test, y1_pred_classes, target_names=[\"airplane\",\"automobile\",\"bird\",\"cat\",\"deer\",\"dog\",\"frog\",\"horse\",\"ship\",\"truck\"]))\n",
        "#here we needed r_test not y_test"
      ],
      "execution_count": 117,
      "outputs": [
        {
          "output_type": "stream",
          "text": [
            "\n",
            "Classification Report\n",
            "\n",
            "              precision    recall  f1-score   support\n",
            "\n",
            "    airplane       0.67      0.80      0.73      1000\n",
            "  automobile       0.80      0.83      0.81      1000\n",
            "        bird       0.57      0.65      0.61      1000\n",
            "         cat       0.51      0.55      0.53      1000\n",
            "        deer       0.71      0.55      0.62      1000\n",
            "         dog       0.67      0.51      0.58      1000\n",
            "        frog       0.78      0.76      0.77      1000\n",
            "       horse       0.70      0.76      0.73      1000\n",
            "        ship       0.79      0.81      0.80      1000\n",
            "       truck       0.79      0.77      0.78      1000\n",
            "\n",
            "    accuracy                           0.70     10000\n",
            "   macro avg       0.70      0.70      0.70     10000\n",
            "weighted avg       0.70      0.70      0.70     10000\n",
            "\n"
          ],
          "name": "stdout"
        }
      ]
    },
    {
      "cell_type": "markdown",
      "metadata": {
        "id": "s4b_5QitAXKY"
      },
      "source": [
        "**We see CNN gives a better accuracy for same epochs , ANN gives accuracy of 56 whereas CNN gives accuracy of 70**\n"
      ]
    },
    {
      "cell_type": "code",
      "metadata": {
        "colab": {
          "base_uri": "https://localhost:8080/"
        },
        "id": "wVmFE_B_AvRN",
        "outputId": "1684653a-2d0b-4253-cc23-ba09bc761d9d"
      },
      "source": [
        "r1_pred = modelcnn.predict_classes(X_test)\n",
        "#required for confusion matrix"
      ],
      "execution_count": 120,
      "outputs": [
        {
          "output_type": "stream",
          "text": [
            "/usr/local/lib/python3.7/dist-packages/tensorflow/python/keras/engine/sequential.py:450: UserWarning: `model.predict_classes()` is deprecated and will be removed after 2021-01-01. Please use instead:* `np.argmax(model.predict(x), axis=-1)`,   if your model does multi-class classification   (e.g. if it uses a `softmax` last-layer activation).* `(model.predict(x) > 0.5).astype(\"int32\")`,   if your model does binary classification   (e.g. if it uses a `sigmoid` last-layer activation).\n",
            "  warnings.warn('`model.predict_classes()` is deprecated and '\n"
          ],
          "name": "stderr"
        }
      ]
    },
    {
      "cell_type": "code",
      "metadata": {
        "colab": {
          "base_uri": "https://localhost:8080/",
          "height": 530
        },
        "id": "Bz7tSf8QBAOV",
        "outputId": "8bbaddc7-95a3-44e8-ffbb-3bc826df39b5"
      },
      "source": [
        "#confusion matrix\n",
        "mat = confusion_matrix(r_test , r1_pred)\n",
        "plot_confusion_matrix(conf_mat = mat, show_normed=False , figsize=(10,8))"
      ],
      "execution_count": 121,
      "outputs": [
        {
          "output_type": "execute_result",
          "data": {
            "text/plain": [
              "(<Figure size 720x576 with 1 Axes>,\n",
              " <matplotlib.axes._subplots.AxesSubplot at 0x7f18448cef90>)"
            ]
          },
          "metadata": {
            "tags": []
          },
          "execution_count": 121
        },
        {
          "output_type": "display_data",
          "data": {
            "image/png": "[encoded data removed]",
            "text/plain": [
              "<Figure size 720x576 with 1 Axes>"
            ]
          },
          "metadata": {
            "tags": [],
            "needs_background": "light"
          }
        }
      ]
    },
    {
      "cell_type": "markdown",
      "metadata": {
        "id": "FLlurduOKjJk"
      },
      "source": [
        "**Testing our model using test data set**\n"
      ]
    },
    {
      "cell_type": "code",
      "metadata": {
        "colab": {
          "base_uri": "https://localhost:8080/"
        },
        "id": "UcfVpAzqIYXg",
        "outputId": "5e659020-10f0-4f10-fa02-d2b65ebd3b62"
      },
      "source": [
        "r_test[0:5].reshape(-1)"
      ],
      "execution_count": 137,
      "outputs": [
        {
          "output_type": "execute_result",
          "data": {
            "text/plain": [
              "array([3, 8, 8, 0, 6], dtype=uint8)"
            ]
          },
          "metadata": {
            "tags": []
          },
          "execution_count": 137
        }
      ]
    },
    {
      "cell_type": "code",
      "metadata": {
        "colab": {
          "base_uri": "https://localhost:8080/"
        },
        "id": "Lo4l7PYmJRdK",
        "outputId": "9fa977b6-7553-460a-e608-368802db23ad"
      },
      "source": [
        "y1_pred = modelann.predict(X_test)\n",
        "y1_pred[0:5]"
      ],
      "execution_count": 138,
      "outputs": [
        {
          "output_type": "execute_result",
          "data": {
            "text/plain": [
              "array([[1.6815978e-01, 1.2328833e-02, 7.9659897e-01, 9.6445119e-01,\n",
              "        4.7115508e-01, 8.8147879e-01, 7.4850321e-03, 4.7319371e-01,\n",
              "        4.9997973e-01, 6.2585324e-02],\n",
              "       [6.2672091e-01, 8.0447531e-01, 1.1325610e-01, 2.7896968e-01,\n",
              "        1.9925892e-01, 1.1587554e-01, 2.4676204e-02, 1.0596162e-01,\n",
              "        9.6059585e-01, 8.5675693e-01],\n",
              "       [9.1203856e-01, 5.4998416e-01, 6.0968727e-01, 3.4596148e-01,\n",
              "        4.8174548e-01, 1.3059852e-01, 3.2322526e-02, 4.1024223e-01,\n",
              "        9.1856134e-01, 6.0227108e-01],\n",
              "       [8.4540415e-01, 1.4638993e-01, 8.0002630e-01, 6.1785096e-01,\n",
              "        7.5211728e-01, 3.1319365e-01, 2.4915397e-02, 5.4062879e-01,\n",
              "        7.5386083e-01, 2.0361909e-01],\n",
              "       [1.4532357e-02, 7.9461932e-04, 9.4217432e-01, 9.3984699e-01,\n",
              "        9.9207330e-01, 9.0418315e-01, 9.8848146e-01, 1.6880706e-01,\n",
              "        5.6054294e-02, 4.1262805e-03]], dtype=float32)"
            ]
          },
          "metadata": {
            "tags": []
          },
          "execution_count": 138
        }
      ]
    },
    {
      "cell_type": "code",
      "metadata": {
        "colab": {
          "base_uri": "https://localhost:8080/"
        },
        "id": "uzA55JWkJhBZ",
        "outputId": "5c0c8f6d-39d3-4499-c7d3-cbda9979ddb9"
      },
      "source": [
        "y1_classes = [np.argmax(element) for element in y1_pred]\n",
        "y1_classes[0:5]"
      ],
      "execution_count": 139,
      "outputs": [
        {
          "output_type": "execute_result",
          "data": {
            "text/plain": [
              "[3, 8, 8, 0, 4]"
            ]
          },
          "metadata": {
            "tags": []
          },
          "execution_count": 139
        }
      ]
    },
    {
      "cell_type": "markdown",
      "metadata": {
        "id": "3tUl_7eSKxlb"
      },
      "source": [
        "We see that for 5th image it gives wrong output for others it gives accurate output"
      ]
    }
  ]
}